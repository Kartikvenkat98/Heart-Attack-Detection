{
  "nbformat": 4,
  "nbformat_minor": 0,
  "metadata": {
    "kernelspec": {
      "display_name": "Python 3",
      "language": "python",
      "name": "python3"
    },
    "language_info": {
      "codemirror_mode": {
        "name": "ipython",
        "version": 3
      },
      "file_extension": ".py",
      "mimetype": "text/x-python",
      "name": "python",
      "nbconvert_exporter": "python",
      "pygments_lexer": "ipython3",
      "version": "3.6.6"
    },
    "colab": {
      "name": "Snorkel-Technique.ipynb",
      "provenance": [],
      "include_colab_link": true
    }
  },
  "cells": [
    {
      "cell_type": "markdown",
      "metadata": {
        "id": "view-in-github",
        "colab_type": "text"
      },
      "source": [
        "<a href=\"https://colab.research.google.com/github/Kartikvenkat98/Heart-Attack-Detection/blob/master/Snorkel_Technique.ipynb\" target=\"_parent\"><img src=\"https://colab.research.google.com/assets/colab-badge.svg\" alt=\"Open In Colab\"/></a>"
      ]
    },
    {
      "cell_type": "code",
      "metadata": {
        "colab": {
          "base_uri": "https://localhost:8080/"
        },
        "id": "3Tic1GIXTBdE",
        "outputId": "66b59f3f-bd0f-4338-e953-78b5214b0c06"
      },
      "source": [
        "from google.colab import drive\n",
        "drive.mount('/content/drive')"
      ],
      "execution_count": 360,
      "outputs": [
        {
          "output_type": "stream",
          "text": [
            "Drive already mounted at /content/drive; to attempt to forcibly remount, call drive.mount(\"/content/drive\", force_remount=True).\n"
          ],
          "name": "stdout"
        }
      ]
    },
    {
      "cell_type": "code",
      "metadata": {
        "id": "fRTTw1pFTOjK"
      },
      "source": [
        "import os\n",
        "DRIVE_DIR = '/content/drive/My\\ Drive/Colab\\ Notebooks/'\n",
        "os.environ['DRIVE_DIR'] = DRIVE_DIR"
      ],
      "execution_count": 361,
      "outputs": []
    },
    {
      "cell_type": "code",
      "metadata": {
        "colab": {
          "base_uri": "https://localhost:8080/"
        },
        "id": "uWtNmaKUTSAV",
        "outputId": "b2216d97-2ec1-4e34-9601-fec0226e9174"
      },
      "source": [
        "cd $DRIVE_DIR"
      ],
      "execution_count": 362,
      "outputs": [
        {
          "output_type": "stream",
          "text": [
            "/content/drive/My Drive/Colab Notebooks\n"
          ],
          "name": "stdout"
        }
      ]
    },
    {
      "cell_type": "code",
      "metadata": {
        "colab": {
          "base_uri": "https://localhost:8080/"
        },
        "id": "wrFhx-OSTa7E",
        "outputId": "ca4c76d4-afff-4157-ab0d-d307f01a7918"
      },
      "source": [
        "!pip install snorkel"
      ],
      "execution_count": 117,
      "outputs": [
        {
          "output_type": "stream",
          "text": [
            "Requirement already satisfied: snorkel in /usr/local/lib/python3.6/dist-packages (0.9.6)\n",
            "Requirement already satisfied: torch<2.0.0,>=1.2.0 in /usr/local/lib/python3.6/dist-packages (from snorkel) (1.7.0+cu101)\n",
            "Requirement already satisfied: pandas<2.0.0,>=0.25.0 in /usr/local/lib/python3.6/dist-packages (from snorkel) (1.1.5)\n",
            "Requirement already satisfied: numpy<2.0.0,>=1.16.0 in /usr/local/lib/python3.6/dist-packages (from snorkel) (1.19.5)\n",
            "Requirement already satisfied: scipy<2.0.0,>=1.2.0 in /usr/local/lib/python3.6/dist-packages (from snorkel) (1.4.1)\n",
            "Requirement already satisfied: scikit-learn<0.22.0,>=0.20.2 in /usr/local/lib/python3.6/dist-packages (from snorkel) (0.21.3)\n",
            "Requirement already satisfied: tensorboard<2.0.0,>=1.14.0 in /usr/local/lib/python3.6/dist-packages (from snorkel) (1.15.0)\n",
            "Requirement already satisfied: tqdm<5.0.0,>=4.33.0 in /usr/local/lib/python3.6/dist-packages (from snorkel) (4.41.1)\n",
            "Requirement already satisfied: networkx<2.4,>=2.2 in /usr/local/lib/python3.6/dist-packages (from snorkel) (2.3)\n",
            "Requirement already satisfied: munkres>=1.0.6 in /usr/local/lib/python3.6/dist-packages (from snorkel) (1.1.4)\n",
            "Requirement already satisfied: dataclasses in /usr/local/lib/python3.6/dist-packages (from torch<2.0.0,>=1.2.0->snorkel) (0.8)\n",
            "Requirement already satisfied: typing-extensions in /usr/local/lib/python3.6/dist-packages (from torch<2.0.0,>=1.2.0->snorkel) (3.7.4.3)\n",
            "Requirement already satisfied: future in /usr/local/lib/python3.6/dist-packages (from torch<2.0.0,>=1.2.0->snorkel) (0.16.0)\n",
            "Requirement already satisfied: python-dateutil>=2.7.3 in /usr/local/lib/python3.6/dist-packages (from pandas<2.0.0,>=0.25.0->snorkel) (2.8.1)\n",
            "Requirement already satisfied: pytz>=2017.2 in /usr/local/lib/python3.6/dist-packages (from pandas<2.0.0,>=0.25.0->snorkel) (2018.9)\n",
            "Requirement already satisfied: joblib>=0.11 in /usr/local/lib/python3.6/dist-packages (from scikit-learn<0.22.0,>=0.20.2->snorkel) (1.0.0)\n",
            "Requirement already satisfied: grpcio>=1.6.3 in /usr/local/lib/python3.6/dist-packages (from tensorboard<2.0.0,>=1.14.0->snorkel) (1.32.0)\n",
            "Requirement already satisfied: werkzeug>=0.11.15 in /usr/local/lib/python3.6/dist-packages (from tensorboard<2.0.0,>=1.14.0->snorkel) (1.0.1)\n",
            "Requirement already satisfied: protobuf>=3.6.0 in /usr/local/lib/python3.6/dist-packages (from tensorboard<2.0.0,>=1.14.0->snorkel) (3.12.4)\n",
            "Requirement already satisfied: markdown>=2.6.8 in /usr/local/lib/python3.6/dist-packages (from tensorboard<2.0.0,>=1.14.0->snorkel) (3.3.3)\n",
            "Requirement already satisfied: setuptools>=41.0.0 in /usr/local/lib/python3.6/dist-packages (from tensorboard<2.0.0,>=1.14.0->snorkel) (53.0.0)\n",
            "Requirement already satisfied: six>=1.10.0 in /usr/local/lib/python3.6/dist-packages (from tensorboard<2.0.0,>=1.14.0->snorkel) (1.15.0)\n",
            "Requirement already satisfied: wheel>=0.26; python_version >= \"3\" in /usr/local/lib/python3.6/dist-packages (from tensorboard<2.0.0,>=1.14.0->snorkel) (0.36.2)\n",
            "Requirement already satisfied: absl-py>=0.4 in /usr/local/lib/python3.6/dist-packages (from tensorboard<2.0.0,>=1.14.0->snorkel) (0.10.0)\n",
            "Requirement already satisfied: decorator>=4.3.0 in /usr/local/lib/python3.6/dist-packages (from networkx<2.4,>=2.2->snorkel) (4.4.2)\n",
            "Requirement already satisfied: importlib-metadata; python_version < \"3.8\" in /usr/local/lib/python3.6/dist-packages (from markdown>=2.6.8->tensorboard<2.0.0,>=1.14.0->snorkel) (3.4.0)\n",
            "Requirement already satisfied: zipp>=0.5 in /usr/local/lib/python3.6/dist-packages (from importlib-metadata; python_version < \"3.8\"->markdown>=2.6.8->tensorboard<2.0.0,>=1.14.0->snorkel) (3.4.0)\n"
          ],
          "name": "stdout"
        }
      ]
    },
    {
      "cell_type": "code",
      "metadata": {
        "id": "e_OmHv6GS7rr"
      },
      "source": [
        "import snorkel\n",
        "import collections"
      ],
      "execution_count": 364,
      "outputs": []
    },
    {
      "cell_type": "code",
      "metadata": {
        "id": "lkUaIKooS7ry"
      },
      "source": [
        "from snorkel import labeling"
      ],
      "execution_count": 365,
      "outputs": []
    },
    {
      "cell_type": "code",
      "metadata": {
        "id": "TP6o4_wMS7ry"
      },
      "source": [
        "from snorkel.labeling import labeling_function"
      ],
      "execution_count": 366,
      "outputs": []
    },
    {
      "cell_type": "code",
      "metadata": {
        "id": "QXPi_vwES7rz"
      },
      "source": [
        "from snorkel.labeling.model import LabelModel\n",
        "from snorkel.labeling import PandasLFApplier"
      ],
      "execution_count": 367,
      "outputs": []
    },
    {
      "cell_type": "code",
      "metadata": {
        "id": "8XBvBDpLS7rz"
      },
      "source": [
        "import pandas as pd\n",
        "import numpy as np"
      ],
      "execution_count": 368,
      "outputs": []
    },
    {
      "cell_type": "code",
      "metadata": {
        "id": "EOXxkhuhS7r0"
      },
      "source": [
        "HEART_ATTACK = 1\n",
        "NOT_HEARTATTACK = 0"
      ],
      "execution_count": 369,
      "outputs": []
    },
    {
      "cell_type": "code",
      "metadata": {
        "id": "NAqcByk5S7r0"
      },
      "source": [
        "\n",
        "@labeling_function()\n",
        "def lf_angles(df):\n",
        "    count_angles_left = 0\n",
        "    count_angles_right = 0\n",
        "    for i in (df['left_arm_angle']):\n",
        "      if (i > 50 and i < 90):\n",
        "        count_angles_left += 1\n",
        "    for i in (df['right_arm_angle']):\n",
        "      if (i > 50 and i < 90):\n",
        "        count_angles_right += 1\n",
        "\n",
        "    if (count_angles_left > 30 or count_angles_right > 30):\n",
        "      return HEART_ATTACK\n",
        "    else:\n",
        "      return NOT_HEARTATTACK\n"
      ],
      "execution_count": null,
      "outputs": []
    },
    {
      "cell_type": "code",
      "metadata": {
        "id": "rGh9c6ebS7r3"
      },
      "source": [
        ""
      ],
      "execution_count": null,
      "outputs": []
    },
    {
      "cell_type": "code",
      "metadata": {
        "id": "DeRZX8JhS7r3"
      },
      "source": [
        "\n",
        "@labeling_function()\n",
        "def lf_armratio(df):\n",
        "    count_ratio_left = 0\n",
        "    count_ratio_right = 0\n",
        "    for i in (df['left_arm_n_ratio']):\n",
        "      #print(i)\n",
        "      if (i > 0.2 and i < 0.75):\n",
        "        count_ratio_left += 1\n",
        "    for i in (df['right_arm_n_ratio']):\n",
        "      if (i > 0.2 and i < 0.75):\n",
        "        count_ratio_right += 1\n",
        "\n",
        "    if (count_ratio_left > 40 or count_ratio_right > 40):\n",
        "      return HEART_ATTACK\n",
        "    else:\n",
        "      return NOT_HEARTATTACK"
      ],
      "execution_count": null,
      "outputs": []
    },
    {
      "cell_type": "code",
      "metadata": {
        "id": "FLy25axJS7r3"
      },
      "source": [
        "@labeling_function()\n",
        "def lf_arm_waistratio(df):\n",
        "    count_ratio_wleft = 0\n",
        "    count_ratio_wright = 0\n",
        "    for i in (df['Left Arm W Ratio']):\n",
        "      #print(i)\n",
        "      if (i > 0.4 and i < 1.5):\n",
        "        count_ratio_wleft += 1\n",
        "    for i in (df['Right Arm W Ratio']):\n",
        "      if (i > 0.4 and i < 1.5):\n",
        "        count_ratio_wright += 1\n",
        "\n",
        "    if (count_ratio_wleft > 40 or count_ratio_wright > 40):\n",
        "      return HEART_ATTACK\n",
        "    else:\n",
        "      return NOT_HEARTATTACK"
      ],
      "execution_count": 372,
      "outputs": []
    },
    {
      "cell_type": "code",
      "metadata": {
        "id": "3aux5CR4S7r5"
      },
      "source": [
        "df = pd.DataFrame()\n",
        "path = './videos/videos_1.mp4_clips_json/frames/'\n",
        "i = 0\n",
        "for name in os.listdir(path):\n",
        "    \n",
        "    path_to_pkl = os.path.join(path, name)\n",
        "    gf = pd.read_pickle(path_to_pkl)\n",
        "    f = name.split('.',-1)\n",
        "    z = f[0]\n",
        "    df.loc[i,'Filename'] = z\n",
        "    df.loc[i,'angles'] = lf_angles(gf)\n",
        "    df.loc[i,'arm_ratio'] = lf_armratio(gf)\n",
        "    i+=1"
      ],
      "execution_count": 424,
      "outputs": []
    },
    {
      "cell_type": "code",
      "metadata": {
        "id": "oatjKXb8XYZK"
      },
      "source": [
        "df"
      ],
      "execution_count": null,
      "outputs": []
    },
    {
      "cell_type": "code",
      "metadata": {
        "id": "0BnObJo1S7r5"
      },
      "source": [
        "gf = df\n",
        "gf"
      ],
      "execution_count": null,
      "outputs": []
    },
    {
      "cell_type": "code",
      "metadata": {
        "id": "eYRtTitJS7r5"
      },
      "source": [
        "kf = pd.read_pickle('./videos/models/video_1.pkl')"
      ],
      "execution_count": 411,
      "outputs": []
    },
    {
      "cell_type": "code",
      "metadata": {
        "id": "I6YxKc8zS7r6"
      },
      "source": [
        "mf = pd.concat([gf, model_df], axis = 1)"
      ],
      "execution_count": 429,
      "outputs": []
    },
    {
      "cell_type": "code",
      "metadata": {
        "id": "Fx2jlp9kS7r6"
      },
      "source": [
        "mf"
      ],
      "execution_count": null,
      "outputs": []
    },
    {
      "cell_type": "code",
      "metadata": {
        "id": "wQtQRLBLS7r6"
      },
      "source": [
        "mf = mf.drop([\"Filename\"],axis=1)\n",
        "mf"
      ],
      "execution_count": null,
      "outputs": []
    },
    {
      "cell_type": "code",
      "metadata": {
        "colab": {
          "base_uri": "https://localhost:8080/"
        },
        "id": "PcUBI4-LS7r6",
        "outputId": "b13a0891-50f3-4c3d-f45a-1a1f28bb91da"
      },
      "source": [
        "mf.values\n"
      ],
      "execution_count": 432,
      "outputs": [
        {
          "output_type": "execute_result",
          "data": {
            "text/plain": [
              "array([[0., 0., 1.],\n",
              "       [0., 0., 1.],\n",
              "       [0., 0., 1.]])"
            ]
          },
          "metadata": {
            "tags": []
          },
          "execution_count": 432
        }
      ]
    },
    {
      "cell_type": "markdown",
      "metadata": {
        "id": "sHSLwQRwS7r7"
      },
      "source": [
        "## 2) Combining & Cleaning the Labels\n",
        "\n",
        "Our next step is to apply the labeling functions we wrote to the unlabeled training data.\n",
        "The result is a *label matrix*, `L_train`, where each row corresponds to a data point and each column corresponds to a labeling function.\n",
        "Since the labeling functions have unknown accuracies and correlations, their output labels may overlap and conflict.\n",
        "We use the `LabelModel` to automatically estimate their accuracies and correlations, reweight and combine their labels, and produce our final set of clean, integrated training labels:"
      ]
    },
    {
      "cell_type": "code",
      "metadata": {
        "id": "UTogug5yS7r7"
      },
      "source": [
        "#from snorkel.labeling.model import LabelModel\n",
        "from snorkel.labeling.model import LabelModel\n",
        "from snorkel.labeling import PandasLFApplier\n",
        "\n",
        "# Define the set of labeling functions (LFs)\n",
        "lfs = [lf_angles, lf_armratio, lf_arm_waistratio]\n",
        "\n",
        "# Apply the LFs to the unlabeled training data\n",
        "applier = PandasLFApplier(lfs)\n",
        "#L_train = applier.apply(df)\n",
        "L_train = mf.values\n",
        "\n",
        "# Train the label model and compute the training labels\n",
        "label_model = LabelModel(cardinality=2, verbose=True)\n",
        "label_model.fit(L_train, n_epochs=5, log_freq=50, seed=123)\n",
        "Y = label_model.predict(L=L_train)\n",
        "#tie_break_policy=\"abstain\""
      ],
      "execution_count": 433,
      "outputs": []
    },
    {
      "cell_type": "code",
      "metadata": {
        "colab": {
          "base_uri": "https://localhost:8080/"
        },
        "id": "EGrQ1YngS7r7",
        "outputId": "7b547048-99ac-4ade-8bf6-122d4da42745"
      },
      "source": [
        "Y"
      ],
      "execution_count": 434,
      "outputs": [
        {
          "output_type": "execute_result",
          "data": {
            "text/plain": [
              "array([0, 0, 0])"
            ]
          },
          "metadata": {
            "tags": []
          },
          "execution_count": 434
        }
      ]
    },
    {
      "cell_type": "code",
      "metadata": {
        "colab": {
          "base_uri": "https://localhost:8080/"
        },
        "id": "mQcm9WZ-upXm",
        "outputId": "7555b2fc-29da-479f-8971-680bea0da2bb"
      },
      "source": [
        "y = list(Y)\n",
        "y[1]"
      ],
      "execution_count": 419,
      "outputs": [
        {
          "output_type": "execute_result",
          "data": {
            "text/plain": [
              "1"
            ]
          },
          "metadata": {
            "tags": []
          },
          "execution_count": 419
        }
      ]
    },
    {
      "cell_type": "code",
      "metadata": {
        "id": "OHQmjy9ESyUQ"
      },
      "source": [
        "target_df = pd.read_pickle('./videos/models/target_video_1.pkl')"
      ],
      "execution_count": null,
      "outputs": []
    },
    {
      "cell_type": "code",
      "metadata": {
        "colab": {
          "base_uri": "https://localhost:8080/"
        },
        "id": "eYCgbQqFJA0c",
        "outputId": "67eb8a7b-f5d2-4df6-ed28-dc154a6a895e"
      },
      "source": [
        "target_df['Target']"
      ],
      "execution_count": 421,
      "outputs": [
        {
          "output_type": "execute_result",
          "data": {
            "text/plain": [
              "0     0\n",
              "1     0\n",
              "2     0\n",
              "3     0\n",
              "4     1\n",
              "5     1\n",
              "6     1\n",
              "7     1\n",
              "8     1\n",
              "9     1\n",
              "10    1\n",
              "11    0\n",
              "12    1\n",
              "13    1\n",
              "14    1\n",
              "15    0\n",
              "16    0\n",
              "17    0\n",
              "Name: Target, dtype: int64"
            ]
          },
          "metadata": {
            "tags": []
          },
          "execution_count": 421
        }
      ]
    },
    {
      "cell_type": "code",
      "metadata": {
        "id": "XKDN_lqzvMh3"
      },
      "source": [
        "count_FP_snorkel = 0\n",
        "for i in range(len(y)):\n",
        "    if (y[i] == 1 and target_df['Target'][i] == 0):\n",
        "      count_FP_snorkel += 1\n",
        "\n",
        "count_FN_snorkel = 0\n",
        "for i in range(len(y)):\n",
        "    if (y[i] == 0 and target_df['Target'][i] == 1):\n",
        "      count_FN_snorkel += 1\n",
        "\n",
        "count_True_snorkel = 0\n",
        "for i in range(len(y)):\n",
        "    if (y[i] == 1 and target_df['Target'][i] == 1) or (y[i] == 0 and target_df['Target'][i] == 0):\n",
        "      count_True_snorkel += 1\n",
        "\n",
        "print(count_FP_snorkel)\n",
        "print(count_FN_snorkel)\n",
        "count_True_snorkel"
      ],
      "execution_count": null,
      "outputs": []
    },
    {
      "cell_type": "code",
      "metadata": {
        "id": "Bwpj-xScxe_F"
      },
      "source": [
        "count_FP_model = 0\n",
        "for i in range(len(mf['Pred'])):\n",
        "  if (mf['Pred'][i] == 1 and target_df['Target'][i] == 0):\n",
        "    count_FP_model += 1\n",
        "\n",
        "count_FN_model = 0\n",
        "for i in range(len(mf['Pred'])):\n",
        "  if (mf['Pred'][i] == 0 and target_df['Target'][i] == 1):\n",
        "    count_FN_model += 1\n",
        "\n",
        "count_True_model = 0\n",
        "for i in range(len(mf['Pred'])):\n",
        "  if (mf['Pred'][i] == 1 and target_df['Target'][i] == 1) or (mf['Pred'][i] == 0 and target_df['Target'][i] == 0):\n",
        "    count_True_model += 1\n",
        "\n",
        "print(count_FP_model)\n",
        "print(count_FN_model)\n",
        "count_True_model"
      ],
      "execution_count": null,
      "outputs": []
    }
  ]
}